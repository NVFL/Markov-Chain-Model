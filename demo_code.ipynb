{
 "cells": [
  {
   "cell_type": "code",
   "execution_count": null,
   "metadata": {},
   "outputs": [],
   "source": [
    "# function to extract transition probabilities for one household \n",
    "\n",
    "def get_markov_prob(df:pd.DataFrame,start:str,end:str): \n",
    "    dummy = df.query(\"@start < start_date < @end\")\n",
    "    dummy = dummy.resample('2h',on='start_date',offset=\"01h00min\").agg(vc = ('transition','value_counts')).fillna(0).reset_index().rename(columns = {'vc': 'transition_count'})\n",
    "    dummy = dummy.assign(Time = dummy.start_date.dt.hour)\n",
    "    dummy = dummy.groupby(['Time','transition'])['transition_count'].sum().to_frame().unstack().fillna(0).stack().reset_index()\n",
    "    dummy['transition'] = dummy.transition.astype(str)\n",
    "    dummy[['source','sink']] = dummy.transition.str.split('>', expand=True)\n",
    "    dummy['total'] = dummy.groupby(['Time','source'])['transition_count'].transform('sum')\n",
    "    dummy['markov'] = dummy['transition_count']/dummy['total']\n",
    "    dummy['markov'] = dummy.markov.fillna(0)\n",
    "    dummy = dummy.set_index(['Time','source','sink'])['markov'].unstack().fillna(0)\n",
    "    return(dummy)"
   ]
  },
  {
   "cell_type": "code",
   "execution_count": null,
   "metadata": {},
   "outputs": [],
   "source": [
    "# set up for the sliding window\n",
    "\n",
    "df = df\n",
    "bwin,cwin,freq = (3,'M'),(3,'W'),'2d'\n",
    "start_date,end_date = df.start_date.dt.date.agg(['min','max']).astype('datetime64')\n",
    "base_line = start_date + np.timedelta64(*bwin)\n",
    "current = base_line + np.timedelta64(*cwin)\n",
    "clean_date = lambda x: pd.to_datetime(str(x.date())) #clearing time out because timedelta brings in time\n",
    "rng = pd.date_range(clean_date(base_line),clean_date(end_date),freq=freq)\n",
    "\n",
    "# run the sliding window\n",
    "\n",
    "similarity = {} #return similarity measures for each window and store in dictionary\n",
    "for win in rng:\n",
    "    baseline_markov = get_markov_prob(df,base_line-np.timedelta64(*bwin),base_line) \n",
    "    current_markov = get_markov_prob(df,current-np.timedelta64(*cwin),current)\n",
    "    similarity[win] = (baseline_markov-current_markov).groupby(by='Time').apply(lambda x: np.linalg.norm(x.values)) # for each window, compare baseline and current transition matrices for each time (of day), and return Frobenius distance\n",
    "    shift = win - base_line\n",
    "    base_line,current = base_line + shift,current + shift\n",
    "    #print(f'{base_line}-{current}')\n",
    "    #print(baseline_markov)\n",
    "    #print(current_markov)"
   ]
  },
  {
   "cell_type": "code",
   "execution_count": null,
   "metadata": {},
   "outputs": [],
   "source": [
    "df_similarity = pd.DataFrame.from_dict(similarity) # return as dataframe\n",
    "df_similarity"
   ]
  }
 ],
 "metadata": {
  "language_info": {
   "name": "python"
  },
  "orig_nbformat": 4
 },
 "nbformat": 4,
 "nbformat_minor": 2
}
