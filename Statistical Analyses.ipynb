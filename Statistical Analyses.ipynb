{
 "cells": [
  {
   "cell_type": "markdown",
   "metadata": {},
   "source": [
    "# Dependencies"
   ]
  },
  {
   "cell_type": "code",
   "execution_count": null,
   "metadata": {},
   "outputs": [],
   "source": [
    "import pandas as pd\n",
    "import numpy as np\n",
    "from itertools import cycle\n",
    "from scipy.stats import zscore\n",
    "from datetime import datetime, timedelta"
   ]
  },
  {
   "cell_type": "markdown",
   "metadata": {},
   "source": [
    "# Load and process data"
   ]
  },
  {
   "cell_type": "code",
   "execution_count": null,
   "metadata": {},
   "outputs": [],
   "source": [
    "kitchen = pd.read_csv('COVID_kitchen.csv').iloc[:,1:]\n",
    "kitchen['start_date'] = pd.to_datetime(kitchen['start_date'])\n",
    "kitchen = kitchen.assign(Event=1)\n",
    "kitchen['activity'] = kitchen.activity.astype(str).replace({'oven-use':'Appliance', 'Kettle':'Appliance', 'fridge door':'Fridge Door'})\n",
    "kitchen"
   ]
  },
  {
   "cell_type": "markdown",
   "metadata": {},
   "source": [
    "# Generate datasets for statistical analyses"
   ]
  },
  {
   "cell_type": "markdown",
   "metadata": {},
   "source": [
    "## Pandemic and occupancy datasets"
   ]
  },
  {
   "cell_type": "code",
   "execution_count": null,
   "metadata": {},
   "outputs": [],
   "source": [
    "COVID = kitchen.copy()\n",
    "COVID['start_date'] = COVID['start_date'].dt.date\n",
    "COVID['start_date'] = pd.to_datetime(COVID['start_date'])\n",
    "COVID = pd.pivot_table(COVID, index=['COVID','Occupancy','household','start_date'], columns='activity', values='Event', aggfunc=np.sum, fill_value=0).reset_index()\n",
    "COVID = pd.melt(COVID, id_vars=['COVID','Occupancy','household','start_date'], value_vars=['Appliance','Fridge Door','Kitchen'], var_name='activity', value_name='Event')\n",
    "COVID"
   ]
  },
  {
   "cell_type": "code",
   "execution_count": null,
   "metadata": {},
   "outputs": [],
   "source": [
    "COVID_wo = pd.pivot_table(COVID, index=['COVID', 'household'], columns='activity', values='Event', aggfunc=np.mean, fill_value=0)\n",
    "COVID_wo['daily_sum'] = COVID_wo.sum(axis=1)\n",
    "COVID_wo = COVID_wo[['daily_sum']].reset_index() \n",
    "\n",
    "COVID_occupancy = pd.pivot_table(COVID, index=['COVID', 'household', 'Occupancy'], columns='activity', values='Event', aggfunc=np.mean, fill_value=0)\n",
    "COVID_occupancy['daily_sum'] = COVID_occupancy.sum(axis=1)\n",
    "COVID_occupancy = COVID_occupancy[['daily_sum']].reset_index()"
   ]
  },
  {
   "cell_type": "code",
   "execution_count": null,
   "metadata": {},
   "outputs": [],
   "source": [
    "Period = kitchen.copy()\n",
    "Period['start_date'] = Period['start_date'].dt.date\n",
    "Period['start_date'] = pd.to_datetime(Period['start_date'])\n",
    "Period = pd.pivot_table(Period, index=['Period','Occupancy','household','start_date'], columns='activity', values='Event', aggfunc=np.sum, fill_value=0).reset_index()\n",
    "Period = pd.melt(Period, id_vars=['Period','Occupancy','household','start_date'], value_vars=['Appliance','Fridge Door','Kitchen'], var_name='activity', value_name='Event')\n",
    "Period"
   ]
  },
  {
   "cell_type": "code",
   "execution_count": null,
   "metadata": {},
   "outputs": [],
   "source": [
    "Period_wo = pd.pivot_table(Period, index=['Period', 'household'], columns='activity', values='Event', aggfunc=np.mean, fill_value=0)\n",
    "Period_wo['daily_sum'] = Period_wo.sum(axis=1)\n",
    "Period_wo = Period_wo[['daily_sum']].reset_index() \n",
    "\n",
    "Period_occupancy = pd.pivot_table(Period, index=['Period', 'household', 'Occupancy'], columns='activity', values='Event', aggfunc=np.mean, fill_value=0)\n",
    "Period_occupancy['daily_sum'] = Period_occupancy.sum(axis=1)\n",
    "Period_occupancy = Period_occupancy[['daily_sum']].reset_index()"
   ]
  },
  {
   "cell_type": "code",
   "execution_count": null,
   "metadata": {},
   "outputs": [],
   "source": [
    "COVID_wo.to_csv('COVID_wo.csv')\n",
    "COVID_occupancy.to_csv('COVID_occupancy.csv')\n",
    "Period_wo.to_csv('Period_wo.csv')\n",
    "Period_occupancy.to_csv('Period_occupancy.csv')"
   ]
  },
  {
   "cell_type": "markdown",
   "metadata": {},
   "source": [
    "## Pandemic and time of day datasets"
   ]
  },
  {
   "cell_type": "code",
   "execution_count": null,
   "metadata": {},
   "outputs": [],
   "source": [
    "COVID_tod = kitchen.set_index('start_date').sort_index().groupby(['COVID','Occupancy','household','activity']).resample('6h').Event.sum().reset_index()\n",
    "\n",
    "COVID_tod = pd.pivot_table(COVID_tod, index=['COVID','Occupancy','household','start_date'], columns='activity', values='Event', fill_value=0).reset_index()\n",
    "COVID_tod['time_of_day'] = COVID_tod['start_date'].dt.hour\n",
    "COVID_tod['start_date'] = COVID_tod['start_date'].dt.date\n",
    "COVID_tod = pd.melt(COVID_tod, id_vars=['COVID','Occupancy','household','start_date','time_of_day'], value_vars=['Appliance','Fridge Door','Kitchen'], var_name='activity', value_name='Event')\n",
    "COVID_tod = pd.pivot_table(COVID_tod, index=['COVID', 'household', 'time_of_day'], columns='activity', values='Event', aggfunc=np.mean, fill_value=0)\n",
    "COVID_tod['daily_sum'] = COVID_tod.sum(axis=1)\n",
    "COVID_tod = COVID_tod[['daily_sum']].reset_index()\n",
    "\n",
    "time_period = cycle(['night','morning','afternoon','evening'])\n",
    "COVID_tod['time_of_day'] = [next(time_period) for count in range(COVID_tod.shape[0])]\n",
    "\n",
    "COVID_tod_z = COVID_tod.groupby(\"time_of_day\").transform(lambda x : zscore(x, ddof=1))\n",
    "COVID_tod['daily_sum'] = COVID_tod_z['daily_sum']\n",
    "COVID_tod "
   ]
  },
  {
   "cell_type": "code",
   "execution_count": null,
   "metadata": {},
   "outputs": [],
   "source": [
    "Period_tod = kitchen.set_index('start_date').sort_index().groupby(['Period','Occupancy','household','activity']).resample('6h').Event.sum().reset_index()\n",
    "\n",
    "Period_tod = pd.pivot_table(Period_tod, index=['Period','Occupancy','household','start_date'], columns='activity', values='Event', fill_value=0).reset_index()\n",
    "Period_tod['time_of_day'] = Period_tod['start_date'].dt.hour\n",
    "Period_tod['start_date'] = Period_tod['start_date'].dt.date\n",
    "Period_tod = pd.melt(Period_tod, id_vars=['Period','Occupancy','household','start_date','time_of_day'], value_vars=['Appliance','Fridge Door','Kitchen'], var_name='activity', value_name='Event')\n",
    "Period_tod = pd.pivot_table(Period_tod, index=['Period', 'household', 'time_of_day'], columns='activity', values='Event', aggfunc=np.mean, fill_value=0)\n",
    "Period_tod['daily_sum'] = Period_tod.sum(axis=1)\n",
    "Period_tod = Period_tod[['daily_sum']].reset_index()\n",
    "\n",
    "time_period = cycle(['night','morning','afternoon','evening'])\n",
    "Period_tod['time_of_day'] = [next(time_period) for count in range(Period_tod.shape[0])]\n",
    "\n",
    "Period_tod_z = Period_tod.groupby(\"time_of_day\").transform(lambda x : zscore(x, ddof=1))\n",
    "Period_tod['daily_sum'] = Period_tod_z['daily_sum']\n",
    "Period_tod "
   ]
  },
  {
   "cell_type": "code",
   "execution_count": null,
   "metadata": {},
   "outputs": [],
   "source": [
    "COVID_tod.to_csv('COVID_tod.csv')\n",
    "Period_tod.to_csv('Period_tod.csv')"
   ]
  },
  {
   "cell_type": "markdown",
   "metadata": {},
   "source": [
    "# Run statistical analyses in RStudio"
   ]
  },
  {
   "cell_type": "markdown",
   "metadata": {},
   "source": [
    "In a new session, import the 6 datasets derived using the code above.\n",
    "\n",
    "Next, in the Console, load lmerTest package using the following line of code:\n",
    "\n",
    "    library(lmerTest)\n",
    "\n",
    "Fit each model with the respective line of code:\n",
    "\n",
    "    lmm1 <- lmer(daily_sum ~ COVID + (1|household), data=COVID_wo, REML=FALSE)\n",
    "\n",
    "    lmm2 <- lmer(daily_sum ~ COVID * Occupancy + (1|household), data=COVID_occupancy, REML=FALSE)\n",
    "\n",
    "    lmm3 <- lmer(daily_sum ~ Period + (1|household), data=Period_wo, REML=FALSE)\n",
    "\n",
    "    lmm4 <- lmer(daily_sum ~ Period * Occupancy + (1|household), data=Period_occupancy, REML=FALSE)\n",
    "\n",
    "    lmm5 <- lmer(daily_sum ~ COVID * time_of_day + (1|household), data=COVID_tod, REML=FALSE)\n",
    "\n",
    "    lmm6 <- lmer(daily_sum ~ Period * time_of_day + (1|household), data=Period_tod, REML=FALSE)\n",
    "\n",
    "Now, print summary including coefficient table with p-values for t-statistics using Satterthwaite's method for denominator degrees of freedom:\n",
    "\n",
    "    print(summary(model_name)) # where model name is lmm1, lmm2...\n",
    "\n",
    "Finally, print Type III anova table with p-values for F-tests based on Satterthwaite's method:\n",
    "\n",
    "    print(anova(model_name)) # where model name is lmm1, lmm2...\n"
   ]
  }
 ],
 "metadata": {
  "kernelspec": {
   "display_name": "Python 3.8.8 ('base')",
   "language": "python",
   "name": "python3"
  },
  "language_info": {
   "codemirror_mode": {
    "name": "ipython",
    "version": 3
   },
   "file_extension": ".py",
   "mimetype": "text/x-python",
   "name": "python",
   "nbconvert_exporter": "python",
   "pygments_lexer": "ipython3",
   "version": "3.8.8"
  },
  "orig_nbformat": 4,
  "vscode": {
   "interpreter": {
    "hash": "730e964555fb2542a911b5002c3c4a5ea6b8ea7e74d00811d465953d33b870ef"
   }
  }
 },
 "nbformat": 4,
 "nbformat_minor": 2
}
